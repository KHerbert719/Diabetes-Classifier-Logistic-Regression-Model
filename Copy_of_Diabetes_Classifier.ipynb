{
  "nbformat": 4,
  "nbformat_minor": 0,
  "metadata": {
    "colab": {
      "provenance": []
    },
    "kernelspec": {
      "name": "python3",
      "display_name": "Python 3"
    },
    "language_info": {
      "name": "python"
    }
  },
  "cells": [
    {
      "cell_type": "code",
      "source": [
        "# Classifier Model\n",
        "\n",
        "# Model to load diabetes.csv data and run logistic regression\n",
        "# to predict whether a person has diabetes (Outcome = 1)\n",
        "# or does not have diabetes (Outcome = 0)\n",
        "# based on factors such as BMI, age, glucose and others\n",
        "# with code descriptions printed\n",
        "\n",
        "import pandas as pd\n",
        "from sklearn.model_selection import train_test_split\n",
        "from sklearn.linear_model import LogisticRegression\n",
        "from sklearn.metrics import accuracy_score, confusion_matrix, classification_report\n",
        "\n",
        "# Load the data\n",
        "df = pd.read_csv('diabetes.csv')\n",
        "\n",
        "# Add a 'patient_id' column\n",
        "df = df.reset_index().rename(columns={'index': 'patient_id'})\n",
        "df['patient_id'] += 1\n",
        "\n",
        "# Write df to a CSV file\n",
        "df.to_csv('df_full_patient_id.csv', index=False)\n",
        "\n",
        "# Prepare the data for modeling\n",
        "x = df.drop(['Outcome', 'patient_id'], axis=1)  # Exclude 'patient_id' from the features\n",
        "y = df['Outcome']\n",
        "\n",
        "# Split the data into training and test sets\n",
        "x_train, x_test, y_train, y_test = train_test_split(x, y, test_size=0.3, random_state=101)\n",
        "\n",
        "# Create and train the logistic regression model\n",
        "logmodel = LogisticRegression(max_iter=1000)  # Increase max_iter\n",
        "logmodel.fit(x_train, y_train)\n",
        "\n",
        "# Make predictions on the test set\n",
        "predictions = logmodel.predict(x_test)\n",
        "\n",
        "# Evaluate the model\n",
        "print(\"Accuracy:\", accuracy_score(y_test, predictions))\n",
        "print(\"Confusion Matrix:\\n\", confusion_matrix(y_test, predictions))\n",
        "print(\"Classification Report:\\n\", classification_report(y_test, predictions))\n"
      ],
      "metadata": {
        "colab": {
          "base_uri": "https://localhost:8080/"
        },
        "id": "s3EDftCW5_3m",
        "outputId": "133337da-f3cc-430d-e688-a187f12a7cee"
      },
      "execution_count": null,
      "outputs": [
        {
          "output_type": "stream",
          "name": "stdout",
          "text": [
            "Accuracy: 0.7835497835497836\n",
            "Confusion Matrix:\n",
            " [[132  18]\n",
            " [ 32  49]]\n",
            "Classification Report:\n",
            "               precision    recall  f1-score   support\n",
            "\n",
            "           0       0.80      0.88      0.84       150\n",
            "           1       0.73      0.60      0.66        81\n",
            "\n",
            "    accuracy                           0.78       231\n",
            "   macro avg       0.77      0.74      0.75       231\n",
            "weighted avg       0.78      0.78      0.78       231\n",
            "\n"
          ]
        }
      ]
    },
    {
      "cell_type": "code",
      "source": [
        "# Print the results with useful annotations\n",
        "\n",
        "# Convert x_test back to a DataFrame\n",
        "x_test_df = pd.DataFrame(x_test, columns=df.drop(['Outcome', 'patient_id'], axis=1).columns)\n",
        "\n",
        "# Get the patient_ids corresponding to the test set\n",
        "test_indices = y_test.index\n",
        "patient_ids_test = df.loc[test_indices, 'patient_id']\n",
        "\n",
        "# Add the patient_id, actual and predicted outcomes to the DataFrame\n",
        "df_output = pd.DataFrame({\n",
        "    'patient_id': patient_ids_test,\n",
        "    'Actual_Outcome': y_test,\n",
        "    'Predicted_Outcome': predictions\n",
        "}).reset_index(drop=True)\n",
        "\n",
        "# Apply if/then/else for Actual_Outcome_Text\n",
        "df_output['Actual_Outcome_Text'] = df_output['Actual_Outcome'].apply(\n",
        "    lambda x: \"Actual Not Diabetes\" if x == 0 else (\"Actual Diabetes\" if x == 1 else \"NA\")\n",
        ")\n",
        "\n",
        "# Apply if/then/else for Predicted_Outcome_Text\n",
        "df_output['Predicted_Outcome_Text'] = df_output['Predicted_Outcome'].apply(\n",
        "    lambda x: \"Predicted Not Diabetes\" if x == 0 else (\"Predicted Diabetes\" if x == 1 else \"NA\")\n",
        ")\n",
        "\n",
        "# Categorize the 'Model_Results' column with additional categories\n",
        "df_output['Model_Results'] = df_output.apply(\n",
        "    lambda row: \"True Positive\" if row['Actual_Outcome'] == 1 and row['Predicted_Outcome'] == 1 else\n",
        "                \"False Positive\" if row['Actual_Outcome'] == 0 and row['Predicted_Outcome'] == 1 else\n",
        "                \"False Negative\" if row['Actual_Outcome'] == 1 and row['Predicted_Outcome'] == 0 else\n",
        "                \"True Negative\" if row['Actual_Outcome'] == 0 and row['Predicted_Outcome'] == 0 else\n",
        "                \"\", axis=1\n",
        ")\n",
        "\n",
        "# Verify the results\n",
        "print(df_output.head())\n",
        "\n",
        "# Concatenate with x_test_df\n",
        "df_output = pd.concat([df_output, x_test_df.reset_index(drop=True)], axis=1)\n",
        "\n",
        "# Verify the results\n",
        "print(df_output.head())\n",
        "\n",
        "# Write df to a CSV file\n",
        "df_output.to_csv('diabetes_predicted.csv', index=False)\n"
      ],
      "metadata": {
        "colab": {
          "base_uri": "https://localhost:8080/"
        },
        "id": "9WO2TDGh9Pfd",
        "outputId": "42bd5b38-301e-4aa1-c6bc-cffaaffad93e"
      },
      "execution_count": null,
      "outputs": [
        {
          "output_type": "stream",
          "name": "stdout",
          "text": [
            "   patient_id  Actual_Outcome  Predicted_Outcome  Actual_Outcome_Text  \\\n",
            "0         767               1                  0      Actual Diabetes   \n",
            "1         749               1                  1      Actual Diabetes   \n",
            "2          43               0                  0  Actual Not Diabetes   \n",
            "3         486               1                  0      Actual Diabetes   \n",
            "4         544               0                  0  Actual Not Diabetes   \n",
            "\n",
            "   Predicted_Outcome_Text   Model_Results  \n",
            "0  Predicted Not Diabetes  False Negative  \n",
            "1      Predicted Diabetes   True Positive  \n",
            "2  Predicted Not Diabetes   True Negative  \n",
            "3  Predicted Not Diabetes  False Negative  \n",
            "4  Predicted Not Diabetes   True Negative  \n",
            "   patient_id  Actual_Outcome  Predicted_Outcome  Actual_Outcome_Text  \\\n",
            "0         767               1                  0      Actual Diabetes   \n",
            "1         749               1                  1      Actual Diabetes   \n",
            "2          43               0                  0  Actual Not Diabetes   \n",
            "3         486               1                  0      Actual Diabetes   \n",
            "4         544               0                  0  Actual Not Diabetes   \n",
            "\n",
            "   Predicted_Outcome_Text   Model_Results  Pregnancies  Glucose  \\\n",
            "0  Predicted Not Diabetes  False Negative            1      126   \n",
            "1      Predicted Diabetes   True Positive            3      187   \n",
            "2  Predicted Not Diabetes   True Negative            7      106   \n",
            "3  Predicted Not Diabetes  False Negative            0      135   \n",
            "4  Predicted Not Diabetes   True Negative            4       84   \n",
            "\n",
            "   BloodPressure  SkinThickness  Insulin   BMI  DiabetesPedigreeFunction  Age  \n",
            "0             60              0        0  30.1                     0.349   47  \n",
            "1             70             22      200  36.4                     0.408   36  \n",
            "2             92             18        0  22.7                     0.235   48  \n",
            "3             68             42      250  42.3                     0.365   24  \n",
            "4             90             23       56  39.5                     0.159   25  \n"
          ]
        }
      ]
    },
    {
      "cell_type": "code",
      "source": [],
      "metadata": {
        "id": "Vn7TNoFt-S82"
      },
      "execution_count": null,
      "outputs": []
    }
  ]
}